{
 "cells": [
  {
   "cell_type": "code",
   "execution_count": null,
   "id": "6f2ad2f0",
   "metadata": {},
   "outputs": [],
   "source": [
    "BioPython!\n",
    "\n",
    " Is it a Programming Language or a Library? \n",
    "    \n",
    "    -Its a library we can use to analyze bioinformatic data!!"
   ]
  },
  {
   "cell_type": "code",
   "execution_count": 6,
   "id": "4c0b176e",
   "metadata": {},
   "outputs": [
    {
     "name": "stdout",
     "output_type": "stream",
     "text": [
      "Biopython v1.79\n"
     ]
    }
   ],
   "source": [
    "#importing libraries\n",
    "\n",
    "import numpy as np # linear algebra\n",
    "import pandas as pd # data processing, CSV file I/O (e.g. pd.read_csv)\n",
    "import Bio\n",
    "print(\"Biopython v\" + Bio.__version__)"
   ]
  },
  {
   "cell_type": "code",
   "execution_count": 7,
   "id": "1030bf61",
   "metadata": {},
   "outputs": [
    {
     "name": "stdout",
     "output_type": "stream",
     "text": [
      "ATGACACTGGT\n"
     ]
    }
   ],
   "source": [
    "from Bio.Seq import Seq\n",
    "my_seq = Seq(\"ATGACACTGGT\")\n",
    "print(my_seq)"
   ]
  },
  {
   "cell_type": "code",
   "execution_count": 8,
   "id": "73e9e695",
   "metadata": {},
   "outputs": [
    {
     "name": "stdout",
     "output_type": "stream",
     "text": [
      "ATGACACTGGT - Sequence\n",
      "TACTGTGACCA - Complement\n",
      "ACCAGTGTCAT - Reverse Complement\n"
     ]
    }
   ],
   "source": [
    "print(my_seq + \" - Sequence\")\n",
    "print(my_seq.complement() + \" - Complement\")\n",
    "print(my_seq.reverse_complement() + \" - Reverse Complement\")"
   ]
  },
  {
   "cell_type": "code",
   "execution_count": 16,
   "id": "b8f9a08e",
   "metadata": {},
   "outputs": [
    {
     "data": {
      "text/plain": [
       "54"
      ]
     },
     "execution_count": 16,
     "metadata": {},
     "output_type": "execute_result"
    }
   ],
   "source": [
    "chr1 = 'Cgacaatgcacgacagaggaagcagaacagatatttagattgcctctcattttc'\n",
    "len(chr1)"
   ]
  },
  {
   "cell_type": "code",
   "execution_count": 18,
   "id": "f1ad29e2",
   "metadata": {},
   "outputs": [
    {
     "name": "stdout",
     "output_type": "stream",
     "text": [
      "First Letter: C\n"
     ]
    }
   ],
   "source": [
    "print(\"First Letter: \" + chr1[0])"
   ]
  },
  {
   "cell_type": "code",
   "execution_count": 22,
   "id": "87e6b21f",
   "metadata": {},
   "outputs": [
    {
     "name": "stdout",
     "output_type": "stream",
     "text": [
      "1\n",
      "2\n",
      "3\n"
     ]
    }
   ],
   "source": [
    "print(\"AGCTAACT\".count(\"AA\"))\n",
    "print(Seq(\"AAAA\").count(\"AA\"))\n",
    "print(\"AATATATA\".count(\"T\"))"
   ]
  },
  {
   "cell_type": "code",
   "execution_count": 23,
   "id": "f2cd04a8",
   "metadata": {},
   "outputs": [
    {
     "name": "stdout",
     "output_type": "stream",
     "text": [
      "GC%:\t\t1.8518518518518516\n"
     ]
    }
   ],
   "source": [
    "print(\"GC%:\\t\\t\" + str(100 * float((chr1.count(\"G\") + chr1.count(\"C\")) / len(chr1) ) ))"
   ]
  },
  {
   "cell_type": "code",
   "execution_count": 24,
   "id": "554ffe2a",
   "metadata": {},
   "outputs": [
    {
     "name": "stdout",
     "output_type": "stream",
     "text": [
      "GC% Package:\t42.592592592592595\n"
     ]
    }
   ],
   "source": [
    "from Bio.SeqUtils import GC\n",
    "print(\"GC% Package:\\t\" + str(GC(chr1)))"
   ]
  },
  {
   "cell_type": "code",
   "execution_count": 25,
   "id": "e8c56535",
   "metadata": {},
   "outputs": [
    {
     "name": "stdout",
     "output_type": "stream",
     "text": [
      "GgCcSs%:\t42.592592592592595\n",
      "GC% Package:\t42.592592592592595\n"
     ]
    }
   ],
   "source": [
    "print(\"GgCcSs%:\\t\" + str(100 * float((chr1.count(\"G\") + chr1.count(\"g\") + chr1.count(\"C\") + chr1.count(\"c\") + chr1.count(\"S\") + chr1.count(\"s\") ) / len(chr1) ) ))\n",
    "print(\"GC% Package:\\t\" + str(GC(chr1)))"
   ]
  },
  {
   "cell_type": "code",
   "execution_count": 26,
   "id": "08a0087c",
   "metadata": {},
   "outputs": [
    {
     "name": "stdout",
     "output_type": "stream",
     "text": [
      "aatgcacg\n"
     ]
    }
   ],
   "source": [
    "print(chr1[4:12])"
   ]
  },
  {
   "cell_type": "code",
   "execution_count": 30,
   "id": "0572e4e9",
   "metadata": {},
   "outputs": [
    {
     "name": "stdout",
     "output_type": "stream",
     "text": [
      "Short chr1: Cgacaatgcacgacagagga\n",
      "Codon Pos 1: Cacaa\n",
      "Codon Pos 2: gaacg\n",
      "Codon Pos 3: atcag\n"
     ]
    }
   ],
   "source": [
    "chr1SHORT = chr1[0:20]\n",
    "print(\"Short chr1: \" + chr1SHORT)\n",
    "\n",
    "print(\"Codon Pos 1: \" + chr1SHORT[0::4])\n",
    "print(\"Codon Pos 2: \" + chr1SHORT[1::4])\n",
    "print(\"Codon Pos 3: \" + chr1SHORT[2::4])"
   ]
  },
  {
   "cell_type": "code",
   "execution_count": 31,
   "id": "dc160ff7",
   "metadata": {},
   "outputs": [
    {
     "name": "stdout",
     "output_type": "stream",
     "text": [
      "Reversed: aggagacagcacgtaacagC\n"
     ]
    }
   ],
   "source": [
    "print(\"Reversed: \" + chr1SHORT[::-1])"
   ]
  },
  {
   "cell_type": "code",
   "execution_count": 32,
   "id": "c231b85e",
   "metadata": {},
   "outputs": [
    {
     "name": "stdout",
     "output_type": "stream",
     "text": [
      "ATGACTTTATATATGCGCTGCTTT\n"
     ]
    }
   ],
   "source": [
    "seq1 = 'ATGACTTTATAT'\n",
    "seq2 ='ATGCGCTGCTTT'\n",
    "concatenated_seq = seq1 + seq2\n",
    "\n",
    "print(concatenated_seq)"
   ]
  },
  {
   "cell_type": "code",
   "execution_count": 36,
   "id": "7f982392",
   "metadata": {},
   "outputs": [
    {
     "name": "stdout",
     "output_type": "stream",
     "text": [
      "ATTAAGCTCTAT\n"
     ]
    }
   ],
   "source": [
    "list_of_seqs = [\"ATTA\", \"AGCT\", \"CTAT\"]\n",
    "concatenated = Seq(\"\")\n",
    "for s in list_of_seqs:\n",
    "    concatenated += s\n",
    "print(concatenated)"
   ]
  },
  {
   "cell_type": "code",
   "execution_count": 37,
   "id": "1acea986",
   "metadata": {},
   "outputs": [
    {
     "name": "stdout",
     "output_type": "stream",
     "text": [
      "ATTAAGCTCTAT\n"
     ]
    }
   ],
   "source": [
    "list_of_seqs =[\"ATTA\", \"AGCT\", \"CTAT\"] \n",
    "print(sum(list_of_seqs, Seq(\"\")))"
   ]
  },
  {
   "cell_type": "code",
   "execution_count": 39,
   "id": "9d547da9",
   "metadata": {},
   "outputs": [
    {
     "name": "stdout",
     "output_type": "stream",
     "text": [
      "Original: gctATATA\n",
      "Upper: GCTATATA\n",
      "Lower: gctatata\n"
     ]
    }
   ],
   "source": [
    "dna_seq = Seq(\"gctATATA\")\n",
    "print(\"Original: \" + dna_seq)\n",
    "print(\"Upper: \" + dna_seq.upper())\n",
    "print(\"Lower: \" + dna_seq.lower())"
   ]
  },
  {
   "cell_type": "code",
   "execution_count": 49,
   "id": "f6713f00",
   "metadata": {},
   "outputs": [
    {
     "name": "stdout",
     "output_type": "stream",
     "text": [
      "Coding DNA: Cgacaatgcacgacagagga\n"
     ]
    },
    {
     "ename": "AttributeError",
     "evalue": "'str' object has no attribute 'reverse_complement'",
     "output_type": "error",
     "traceback": [
      "\u001b[1;31m---------------------------------------------------------------------------\u001b[0m",
      "\u001b[1;31mAttributeError\u001b[0m                            Traceback (most recent call last)",
      "\u001b[1;32m<ipython-input-49-e7c80ea606c7>\u001b[0m in \u001b[0;36m<module>\u001b[1;34m\u001b[0m\n\u001b[0;32m      1\u001b[0m \u001b[1;32mfrom\u001b[0m \u001b[0mBio\u001b[0m\u001b[1;33m.\u001b[0m\u001b[0mSeq\u001b[0m \u001b[1;32mimport\u001b[0m \u001b[0mSeq\u001b[0m\u001b[1;33m\u001b[0m\u001b[1;33m\u001b[0m\u001b[0m\n\u001b[0;32m      2\u001b[0m \u001b[0mprint\u001b[0m\u001b[1;33m(\u001b[0m\u001b[1;34m\"Coding DNA: \"\u001b[0m \u001b[1;33m+\u001b[0m \u001b[0mchr1SHORT\u001b[0m\u001b[1;33m)\u001b[0m\u001b[1;33m\u001b[0m\u001b[1;33m\u001b[0m\u001b[0m\n\u001b[1;32m----> 3\u001b[1;33m \u001b[0mtemplate_dna\u001b[0m \u001b[1;33m=\u001b[0m \u001b[0mchr1SHORT\u001b[0m\u001b[1;33m.\u001b[0m\u001b[0mreverse_complement\u001b[0m\u001b[1;33m(\u001b[0m\u001b[1;33m)\u001b[0m\u001b[1;33m\u001b[0m\u001b[1;33m\u001b[0m\u001b[0m\n\u001b[0m\u001b[0;32m      4\u001b[0m \u001b[0mprint\u001b[0m\u001b[1;33m(\u001b[0m\u001b[1;34m\"Template DNA: \"\u001b[0m \u001b[1;33m+\u001b[0m \u001b[0mtemplate_dna\u001b[0m\u001b[1;33m)\u001b[0m\u001b[1;33m\u001b[0m\u001b[1;33m\u001b[0m\u001b[0m\n",
      "\u001b[1;31mAttributeError\u001b[0m: 'str' object has no attribute 'reverse_complement'"
     ]
    }
   ],
   "source": [
    "from Bio.Seq import Seq\n",
    "print(\"Coding DNA: \" + chr1SHORT)\n",
    "template_dna = chr1SHORT.reverse_complement()\n",
    "print(\"Template DNA: \" + template_dna)"
   ]
  },
  {
   "cell_type": "code",
   "execution_count": 42,
   "id": "63d2404f",
   "metadata": {},
   "outputs": [
    {
     "ename": "AttributeError",
     "evalue": "'str' object has no attribute 'transcribe'",
     "output_type": "error",
     "traceback": [
      "\u001b[1;31m---------------------------------------------------------------------------\u001b[0m",
      "\u001b[1;31mAttributeError\u001b[0m                            Traceback (most recent call last)",
      "\u001b[1;32m<ipython-input-42-7d236062ca7e>\u001b[0m in \u001b[0;36m<module>\u001b[1;34m\u001b[0m\n\u001b[1;32m----> 1\u001b[1;33m \u001b[0mmessenger_rna\u001b[0m \u001b[1;33m=\u001b[0m \u001b[0mchr1\u001b[0m\u001b[1;33m.\u001b[0m\u001b[0mtranscribe\u001b[0m\u001b[1;33m(\u001b[0m\u001b[1;33m)\u001b[0m\u001b[1;33m\u001b[0m\u001b[1;33m\u001b[0m\u001b[0m\n\u001b[0m\u001b[0;32m      2\u001b[0m \u001b[0mprint\u001b[0m\u001b[1;33m(\u001b[0m\u001b[1;34m\"Messenger RNA: \"\u001b[0m \u001b[1;33m+\u001b[0m \u001b[0mmessenger_rna\u001b[0m\u001b[1;33m)\u001b[0m\u001b[1;33m\u001b[0m\u001b[1;33m\u001b[0m\u001b[0m\n",
      "\u001b[1;31mAttributeError\u001b[0m: 'str' object has no attribute 'transcribe'"
     ]
    }
   ],
   "source": [
    "\n",
    "messenger_rna = chr1.transcribe()\n",
    "print(\"Messenger RNA: \" + messenger_rna)"
   ]
  },
  {
   "cell_type": "code",
   "execution_count": null,
   "id": "93cdb953",
   "metadata": {},
   "outputs": [],
   "source": []
  },
  {
   "cell_type": "code",
   "execution_count": null,
   "id": "aecc36a7",
   "metadata": {},
   "outputs": [],
   "source": []
  },
  {
   "cell_type": "code",
   "execution_count": null,
   "id": "a67275e6",
   "metadata": {},
   "outputs": [],
   "source": []
  },
  {
   "cell_type": "code",
   "execution_count": null,
   "id": "00bb513d",
   "metadata": {},
   "outputs": [],
   "source": []
  },
  {
   "cell_type": "code",
   "execution_count": null,
   "id": "4e19c366",
   "metadata": {},
   "outputs": [],
   "source": []
  },
  {
   "cell_type": "code",
   "execution_count": null,
   "id": "092db574",
   "metadata": {},
   "outputs": [],
   "source": []
  },
  {
   "cell_type": "code",
   "execution_count": null,
   "id": "0de38c6f",
   "metadata": {},
   "outputs": [],
   "source": [
    "Reference:\n",
    "    http://biopython.org/DIST/docs/tutorial/Tutorial.html"
   ]
  }
 ],
 "metadata": {
  "kernelspec": {
   "display_name": "Python 3",
   "language": "python",
   "name": "python3"
  },
  "language_info": {
   "codemirror_mode": {
    "name": "ipython",
    "version": 3
   },
   "file_extension": ".py",
   "mimetype": "text/x-python",
   "name": "python",
   "nbconvert_exporter": "python",
   "pygments_lexer": "ipython3",
   "version": "3.8.8"
  }
 },
 "nbformat": 4,
 "nbformat_minor": 5
}
